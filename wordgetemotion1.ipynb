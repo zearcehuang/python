{
 "cells": [
  {
   "cell_type": "code",
   "execution_count": 3,
   "metadata": {},
   "outputs": [],
   "source": [
    "import os\n",
    "import jieba\n",
    "import jieba.analyse\n",
    "import pandas as pd\n",
    "import pyodbc\n",
    "import configparser\n",
    "from bs4 import BeautifulSoup\n",
    "import re\n",
    "import nltk"
   ]
  },
  {
   "cell_type": "code",
   "execution_count": 4,
   "metadata": {},
   "outputs": [],
   "source": [
    "config = configparser.ConfigParser()\n",
    "config.read('config.env')\n",
    "db_UserName = config.get('DEFAULT', 'DB_USERNAME')\n",
    "db_Password = config.get('DEFAULT', 'DB_PASSWORD')\n",
    "db_Name = config.get('DEFAULT', 'DB_NAME')\n",
    "db_Host = config.get('DEFAULT', 'DB_HOST')\n",
    "\n",
    "cnxn_str = (\"Driver={ODBC Driver 17 for SQL Server};\"\n",
    "            f\"Server={db_Host};\"\n",
    "            f\"Database={db_Name};\"\n",
    "            f\"UID={db_UserName};\"\n",
    "            f\"PWD={db_Password};\")\n",
    "\n",
    "cnxn = pyodbc.connect(cnxn_str)\n",
    "# Create a cursor from the connection\n",
    "cursor = cnxn.cursor()"
   ]
  },
  {
   "cell_type": "code",
   "execution_count": 5,
   "metadata": {},
   "outputs": [
    {
     "name": "stderr",
     "output_type": "stream",
     "text": [
      "c:\\Users\\HuanChen\\AppData\\Local\\Programs\\Python\\Python310\\lib\\site-packages\\pandas\\io\\sql.py:761: UserWarning: pandas only support SQLAlchemy connectable(engine/connection) ordatabase string URI or sqlite3 DBAPI2 connectionother DBAPI2 objects are not tested, please consider using SQLAlchemy\n",
      "  warnings.warn(\n"
     ]
    }
   ],
   "source": [
    "# SQL查詢語句\n",
    "query = (\"select id,title ,context from (\"\n",
    "         \"select a.id,title,context from pttpost_referendum_1 a \"\n",
    "         \" inner join pttpost b on a.source=b.source and a.id=b.Id \"\n",
    "         \" where not exists (select * from keyword where source=99 and (b.title like '%'+keyname+'%' or b.context like '%'+keyname+'%')) \"\n",
    "         \" union all \"\n",
    "         \" select a.id,title,context from pttpost_referendum_1 a \"\n",
    "         \" inner join pttpostgossing b on a.source=b.source and a.id=b.Id \"\n",
    "         \" where not exists (select * from keyword where source=99 and (b.title like '%'+keyname+'%' or b.context like '%'+keyname+'%')) \"\n",
    "         \" union all \"\n",
    "         \" select convert(varchar,a.id),title,content from dcard.dbo.pttpost_referendum_1 a \"\n",
    "         \" inner join dcard.dbo.post b on a.source=b.forum and a.id=b.Id \"\n",
    "         \" where not exists (select * from keyword where source=99 and (b.title like '%'+keyname+'%' or b.content like '%'+keyname+'%')) \"\n",
    "         \" ) m \"\n",
    "         \"where 1=1\")\n",
    "\n",
    "# 讀取資料表\n",
    "df = pd.read_sql(query, cnxn)"
   ]
  },
  {
   "cell_type": "code",
   "execution_count": 6,
   "metadata": {},
   "outputs": [],
   "source": [
    "with open('NTUSD_positive_unicode.txt', encoding='utf-8', mode='r') as f:\n",
    "        positive_words = []\n",
    "        for l in f:\n",
    "            positive_words.append(l.strip())\n",
    "\n",
    "with open('NTUSD_negative_unicode.txt', encoding='utf-8', mode='r') as f:\n",
    "    negative_words = []\n",
    "    for l in f:\n",
    "        negative_words.append(l.strip())"
   ]
  },
  {
   "cell_type": "code",
   "execution_count": 7,
   "metadata": {},
   "outputs": [],
   "source": [
    "# 定義處理負面字串的函式\n",
    "def process_text_negative(text):\n",
    "    # 使用 jieba 分詞\n",
    "    words = jieba.cut(text)\n",
    "    \n",
    "    words = [word for word in words if word in negative_words]   \n",
    "\n",
    "    # 回傳字詞列表\n",
    "    return words"
   ]
  },
  {
   "cell_type": "code",
   "execution_count": 8,
   "metadata": {},
   "outputs": [],
   "source": [
    "# 定義處理正面字串的函式\n",
    "def process_text_postive(text):\n",
    "    # 使用 jieba 分詞\n",
    "    words = jieba.cut(text)\n",
    "    \n",
    "    words = [word for word in words if word in positive_words]   \n",
    "\n",
    "    # 回傳字詞列表\n",
    "    return words"
   ]
  },
  {
   "cell_type": "code",
   "execution_count": 9,
   "metadata": {},
   "outputs": [
    {
     "name": "stderr",
     "output_type": "stream",
     "text": [
      "Building prefix dict from C:\\project\\python\\dict.big5.txt ...\n",
      "Loading model from cache C:\\Users\\HuanChen\\AppData\\Local\\Temp\\jieba.u7bf78fb8a3e5c528afaa2a9a1de33675.cache\n",
      "Loading model cost 0.696 seconds.\n",
      "Prefix dict has been built successfully.\n"
     ]
    }
   ],
   "source": [
    "# 載入知網詞庫\n",
    "jieba.set_dictionary('C:\\project\\python\\dict.big5.txt')\n",
    "\n",
    "# 載入自定義詞庫\n",
    "jieba.load_userdict('C:\\project\\python\\main.txt')"
   ]
  },
  {
   "cell_type": "code",
   "execution_count": 10,
   "metadata": {},
   "outputs": [
    {
     "name": "stdout",
     "output_type": "stream",
     "text": [
      "start analyze emotion word in context\n"
     ]
    }
   ],
   "source": [
    "print('start analyze emotion word in context')\n",
    "# 處理 context 欄位\n",
    "corpus_context_negative = [process_text_negative(text) for text in df['context']]\n",
    "corpus_context_postive = [process_text_postive(text) for text in df['context']]"
   ]
  },
  {
   "cell_type": "code",
   "execution_count": 11,
   "metadata": {},
   "outputs": [
    {
     "name": "stdout",
     "output_type": "stream",
     "text": [
      "start analyze emotion word in title\n"
     ]
    }
   ],
   "source": [
    "print('start analyze emotion word in title')\n",
    "# 處理 title 欄位\n",
    "corpus_title_negative = [process_text_negative(text) for text in df['title']]\n",
    "corpus_title_postive = [process_text_postive(text) for text in df['title']]"
   ]
  },
  {
   "cell_type": "code",
   "execution_count": 12,
   "metadata": {},
   "outputs": [],
   "source": [
    "# 合併兩個 corpus\n",
    "corpus_postive = corpus_context_postive + corpus_title_postive\n",
    "corpus_negative = corpus_context_negative + corpus_title_negative"
   ]
  },
  {
   "cell_type": "code",
   "execution_count": 13,
   "metadata": {},
   "outputs": [
    {
     "name": "stdout",
     "output_type": "stream",
     "text": [
      "正面詞彙\n",
      "完整: 17166\n",
      "很多: 8403\n",
      "知道: 5785\n",
      "希望: 4817\n",
      "進行: 4144\n",
      "同意: 3979\n",
      "發展: 3746\n",
      "當然: 3609\n",
      "成為: 3471\n",
      "安全: 3122\n",
      "決定: 3072\n",
      "才能: 2770\n",
      "增加: 2728\n",
      "能力: 2705\n",
      "通過: 2654\n",
      "接受: 2603\n",
      "說明: 2483\n",
      "相信: 2437\n",
      "喜歡: 2330\n",
      "自由: 2307\n"
     ]
    }
   ],
   "source": [
    "# 使用 nltk.FreqDist 計算詞頻\n",
    "word_freq = nltk.FreqDist(word for words in corpus_postive for word in words)\n",
    "# 取出前 10 筆\n",
    "top_words = word_freq.most_common(20)\n",
    "\n",
    "# 顯示結果\n",
    "print(\"正面詞彙\")\n",
    "for word, freq in top_words:    \n",
    "    print(f\"{word}: {freq}\")"
   ]
  },
  {
   "cell_type": "code",
   "execution_count": 14,
   "metadata": {},
   "outputs": [
    {
     "name": "stdout",
     "output_type": "stream",
     "text": [
      "負面詞彙\n",
      "沒有: 19347\n",
      "不是: 13276\n",
      "問題: 9093\n",
      "不要: 7664\n",
      "不會: 7236\n",
      "不知道: 7080\n",
      "不能: 5209\n",
      "無法: 5112\n",
      "東西: 4777\n",
      "要求: 4274\n",
      "刪除: 3970\n",
      "超過: 3339\n",
      "反對: 2806\n",
      "垃圾: 2802\n",
      "怎樣: 2740\n",
      "突然: 2719\n",
      "不到: 2608\n",
      "不同意: 2587\n",
      "攻擊: 2418\n",
      "禁止: 2410\n"
     ]
    }
   ],
   "source": [
    "word_freq = nltk.FreqDist(word for words in corpus_negative for word in words)\n",
    "# 取出前 10 筆\n",
    "top_words = word_freq.most_common(20)\n",
    "\n",
    "# 顯示結果\n",
    "print(\"負面詞彙\")\n",
    "for word, freq in top_words:    \n",
    "    print(f\"{word}: {freq}\")"
   ]
  }
 ],
 "metadata": {
  "kernelspec": {
   "display_name": "Python 3",
   "language": "python",
   "name": "python3"
  },
  "language_info": {
   "codemirror_mode": {
    "name": "ipython",
    "version": 3
   },
   "file_extension": ".py",
   "mimetype": "text/x-python",
   "name": "python",
   "nbconvert_exporter": "python",
   "pygments_lexer": "ipython3",
   "version": "3.10.4"
  },
  "orig_nbformat": 4
 },
 "nbformat": 4,
 "nbformat_minor": 2
}
