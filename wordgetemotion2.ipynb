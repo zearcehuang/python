{
 "cells": [
  {
   "cell_type": "code",
   "execution_count": 1,
   "metadata": {},
   "outputs": [],
   "source": [
    "import os\n",
    "import jieba\n",
    "import jieba.analyse\n",
    "import pandas as pd\n",
    "import pyodbc\n",
    "import configparser\n",
    "from bs4 import BeautifulSoup\n",
    "import re\n",
    "import nltk"
   ]
  },
  {
   "cell_type": "code",
   "execution_count": 2,
   "metadata": {},
   "outputs": [],
   "source": [
    "config = configparser.ConfigParser()\n",
    "config.read('config.env')\n",
    "db_UserName = config.get('DEFAULT', 'DB_USERNAME')\n",
    "db_Password = config.get('DEFAULT', 'DB_PASSWORD')\n",
    "db_Name = config.get('DEFAULT', 'DB_NAME')\n",
    "db_Host = config.get('DEFAULT', 'DB_HOST')\n",
    "\n",
    "cnxn_str = (\"Driver={ODBC Driver 17 for SQL Server};\"\n",
    "            f\"Server={db_Host};\"\n",
    "            f\"Database={db_Name};\"\n",
    "            f\"UID={db_UserName};\"\n",
    "            f\"PWD={db_Password};\")\n",
    "\n",
    "cnxn = pyodbc.connect(cnxn_str)\n",
    "# Create a cursor from the connection\n",
    "cursor = cnxn.cursor()"
   ]
  },
  {
   "cell_type": "code",
   "execution_count": 3,
   "metadata": {},
   "outputs": [
    {
     "name": "stderr",
     "output_type": "stream",
     "text": [
      "c:\\Users\\HuanChen\\AppData\\Local\\Programs\\Python\\Python310\\lib\\site-packages\\pandas\\io\\sql.py:761: UserWarning: pandas only support SQLAlchemy connectable(engine/connection) ordatabase string URI or sqlite3 DBAPI2 connectionother DBAPI2 objects are not tested, please consider using SQLAlchemy\n",
      "  warnings.warn(\n"
     ]
    }
   ],
   "source": [
    "# SQL查詢語句\n",
    "query = (\"select id,title ,context from (\"\n",
    "         \"select a.id,title,context from pttpost_referendum_2 a \"\n",
    "         \" inner join pttpost b on a.source=b.source and a.id=b.Id \"\n",
    "         \" where not exists (select * from keyword where source=99 and (b.title like '%'+keyname+'%' or b.context like '%'+keyname+'%')) \"\n",
    "         \" union all \"\n",
    "         \" select a.id,title,context from pttpost_referendum_2 a \"\n",
    "         \" inner join pttpostgossing b on a.source=b.source and a.id=b.Id \"\n",
    "         \" where not exists (select * from keyword where source=99 and (b.title like '%'+keyname+'%' or b.context like '%'+keyname+'%')) \"\n",
    "         \" union all \"\n",
    "         \" select convert(varchar,a.id),title,content from dcard.dbo.pttpost_referendum_2 a \"\n",
    "         \" inner join dcard.dbo.post b on a.source=b.forum and a.id=b.Id \"\n",
    "         \" where not exists (select * from keyword where source=99 and (b.title like '%'+keyname+'%' or b.content like '%'+keyname+'%')) \"\n",
    "         \" ) m \"\n",
    "         \"where 1=1\")\n",
    "\n",
    "# 讀取資料表\n",
    "df = pd.read_sql(query, cnxn)"
   ]
  },
  {
   "cell_type": "code",
   "execution_count": 4,
   "metadata": {},
   "outputs": [],
   "source": [
    "with open('NTUSD_positive_unicode.txt', encoding='utf-8', mode='r') as f:\n",
    "        positive_words = []\n",
    "        for l in f:\n",
    "            positive_words.append(l.strip())\n",
    "\n",
    "with open('NTUSD_negative_unicode.txt', encoding='utf-8', mode='r') as f:\n",
    "    negative_words = []\n",
    "    for l in f:\n",
    "        negative_words.append(l.strip())"
   ]
  },
  {
   "cell_type": "code",
   "execution_count": 5,
   "metadata": {},
   "outputs": [],
   "source": [
    "# 定義處理負面字串的函式\n",
    "def process_text_negative(text):\n",
    "    # 使用 jieba 分詞\n",
    "    words = jieba.cut(text)\n",
    "    \n",
    "    words = [word for word in words if word in negative_words]   \n",
    "\n",
    "    # 回傳字詞列表\n",
    "    return words"
   ]
  },
  {
   "cell_type": "code",
   "execution_count": 6,
   "metadata": {},
   "outputs": [],
   "source": [
    "# 定義處理正面字串的函式\n",
    "def process_text_postive(text):\n",
    "    # 使用 jieba 分詞\n",
    "    words = jieba.cut(text)\n",
    "    \n",
    "    words = [word for word in words if word in positive_words]   \n",
    "\n",
    "    # 回傳字詞列表\n",
    "    return words"
   ]
  },
  {
   "cell_type": "code",
   "execution_count": 7,
   "metadata": {},
   "outputs": [
    {
     "name": "stderr",
     "output_type": "stream",
     "text": [
      "Building prefix dict from C:\\project\\python\\dict.big5.txt ...\n",
      "Loading model from cache C:\\Users\\HuanChen\\AppData\\Local\\Temp\\jieba.u7bf78fb8a3e5c528afaa2a9a1de33675.cache\n",
      "Loading model cost 2.433 seconds.\n",
      "Prefix dict has been built successfully.\n"
     ]
    }
   ],
   "source": [
    "# 載入知網詞庫\n",
    "jieba.set_dictionary('C:\\project\\python\\dict.big5.txt')\n",
    "\n",
    "# 載入自定義詞庫\n",
    "jieba.load_userdict('C:\\project\\python\\main.txt')"
   ]
  },
  {
   "cell_type": "code",
   "execution_count": 8,
   "metadata": {},
   "outputs": [
    {
     "name": "stdout",
     "output_type": "stream",
     "text": [
      "start analyze emotion word in context\n"
     ]
    }
   ],
   "source": [
    "print('start analyze emotion word in context')\n",
    "# 處理 context 欄位\n",
    "corpus_context_negative = [process_text_negative(text) for text in df['context']]\n",
    "corpus_context_postive = [process_text_postive(text) for text in df['context']]"
   ]
  },
  {
   "cell_type": "code",
   "execution_count": 9,
   "metadata": {},
   "outputs": [
    {
     "name": "stdout",
     "output_type": "stream",
     "text": [
      "start analyze emotion word in title\n"
     ]
    }
   ],
   "source": [
    "print('start analyze emotion word in title')\n",
    "# 處理 title 欄位\n",
    "corpus_title_negative = [process_text_negative(text) for text in df['title']]\n",
    "corpus_title_postive = [process_text_postive(text) for text in df['title']]"
   ]
  },
  {
   "cell_type": "code",
   "execution_count": 10,
   "metadata": {},
   "outputs": [],
   "source": [
    "# 合併兩個 corpus\n",
    "corpus_postive = corpus_context_postive + corpus_title_postive\n",
    "corpus_negative = corpus_context_negative + corpus_title_negative"
   ]
  },
  {
   "cell_type": "code",
   "execution_count": 11,
   "metadata": {},
   "outputs": [
    {
     "name": "stdout",
     "output_type": "stream",
     "text": [
      "正面詞彙\n",
      "完整: 22097\n",
      "很多: 12198\n",
      "知道: 8223\n",
      "萬能: 7035\n",
      "希望: 6973\n",
      "同意: 6323\n",
      "當然: 5261\n",
      "進行: 5025\n",
      "成為: 4782\n",
      "發展: 4529\n",
      "決定: 4179\n",
      "能力: 4011\n",
      "安全: 4010\n",
      "才能: 3925\n",
      "相信: 3721\n",
      "接受: 3718\n",
      "喜歡: 3593\n",
      "自由: 3443\n",
      "增加: 3348\n",
      "開放: 3298\n"
     ]
    }
   ],
   "source": [
    "# 使用 nltk.FreqDist 計算詞頻\n",
    "word_freq = nltk.FreqDist(word for words in corpus_postive for word in words)\n",
    "# 取出前 10 筆\n",
    "top_words = word_freq.most_common(20)\n",
    "\n",
    "# 顯示結果\n",
    "print(\"正面詞彙\")\n",
    "for word, freq in top_words:    \n",
    "    print(f\"{word}: {freq}\")"
   ]
  },
  {
   "cell_type": "code",
   "execution_count": 12,
   "metadata": {},
   "outputs": [
    {
     "name": "stdout",
     "output_type": "stream",
     "text": [
      "負面詞彙\n",
      "沒有: 27841\n",
      "不是: 19373\n",
      "問題: 12150\n",
      "不要: 11282\n",
      "不會: 10279\n",
      "不知道: 9683\n",
      "禁止: 9333\n",
      "不能: 7770\n",
      "嚴格: 7500\n",
      "無法: 7122\n",
      "東西: 6584\n",
      "要求: 5928\n",
      "怎樣: 4332\n",
      "刪除: 4218\n",
      "超過: 4102\n",
      "攻擊: 4074\n",
      "不同意: 3960\n",
      "突然: 3954\n",
      "不到: 3722\n",
      "垃圾: 3714\n"
     ]
    }
   ],
   "source": [
    "word_freq = nltk.FreqDist(word for words in corpus_negative for word in words)\n",
    "# 取出前 10 筆\n",
    "top_words = word_freq.most_common(20)\n",
    "\n",
    "# 顯示結果\n",
    "print(\"負面詞彙\")\n",
    "for word, freq in top_words:    \n",
    "    print(f\"{word}: {freq}\")"
   ]
  }
 ],
 "metadata": {
  "kernelspec": {
   "display_name": "Python 3",
   "language": "python",
   "name": "python3"
  },
  "language_info": {
   "codemirror_mode": {
    "name": "ipython",
    "version": 3
   },
   "file_extension": ".py",
   "mimetype": "text/x-python",
   "name": "python",
   "nbconvert_exporter": "python",
   "pygments_lexer": "ipython3",
   "version": "3.10.4"
  },
  "orig_nbformat": 4
 },
 "nbformat": 4,
 "nbformat_minor": 2
}
