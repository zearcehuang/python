{
 "cells": [
  {
   "cell_type": "code",
   "execution_count": 1,
   "metadata": {},
   "outputs": [],
   "source": [
    "import os\n",
    "import jieba\n",
    "import jieba.analyse\n",
    "import pandas as pd\n",
    "import pyodbc\n",
    "import configparser\n",
    "from bs4 import BeautifulSoup\n",
    "import re\n",
    "import nltk"
   ]
  },
  {
   "cell_type": "code",
   "execution_count": 2,
   "metadata": {},
   "outputs": [],
   "source": [
    "config = configparser.ConfigParser()\n",
    "config.read('config.env')\n",
    "db_UserName = config.get('DEFAULT', 'DB_USERNAME')\n",
    "db_Password = config.get('DEFAULT', 'DB_PASSWORD')\n",
    "db_Name = config.get('DEFAULT', 'DB_NAME')\n",
    "db_Host = config.get('DEFAULT', 'DB_HOST')\n",
    "\n",
    "cnxn_str = (\"Driver={ODBC Driver 17 for SQL Server};\"\n",
    "            f\"Server={db_Host};\"\n",
    "            f\"Database={db_Name};\"\n",
    "            f\"UID={db_UserName};\"\n",
    "            f\"PWD={db_Password};\")\n",
    "\n",
    "cnxn = pyodbc.connect(cnxn_str)\n",
    "# Create a cursor from the connection\n",
    "cursor = cnxn.cursor()"
   ]
  },
  {
   "cell_type": "code",
   "execution_count": 3,
   "metadata": {},
   "outputs": [
    {
     "name": "stderr",
     "output_type": "stream",
     "text": [
      "c:\\Users\\HuanChen\\AppData\\Local\\Programs\\Python\\Python310\\lib\\site-packages\\pandas\\io\\sql.py:761: UserWarning: pandas only support SQLAlchemy connectable(engine/connection) ordatabase string URI or sqlite3 DBAPI2 connectionother DBAPI2 objects are not tested, please consider using SQLAlchemy\n",
      "  warnings.warn(\n"
     ]
    }
   ],
   "source": [
    "# SQL查詢語句\n",
    "query = (\"select id,title ,context from (\"\n",
    "         \"select a.id,title,context from pttpost_referendum_3 a \"\n",
    "         \" inner join pttpost b on a.source=b.source and a.id=b.Id \"\n",
    "         \" where not exists (select * from keyword where source=99 and (b.title like '%'+keyname+'%' or b.context like '%'+keyname+'%')) \"\n",
    "         \" union all \"\n",
    "         \" select a.id,title,context from pttpost_referendum_3 a \"\n",
    "         \" inner join pttpostgossing b on a.source=b.source and a.id=b.Id \"\n",
    "         \" where not exists (select * from keyword where source=99 and (b.title like '%'+keyname+'%' or b.context like '%'+keyname+'%')) \"\n",
    "         \" union all \"\n",
    "         \" select convert(varchar,a.id),title,content from dcard.dbo.pttpost_referendum_3 a \"\n",
    "         \" inner join dcard.dbo.post b on a.source=b.forum and a.id=b.Id \"\n",
    "         \" where not exists (select * from keyword where source=99 and (b.title like '%'+keyname+'%' or b.content like '%'+keyname+'%')) \"\n",
    "         \" ) m \"\n",
    "         \"where 1=1\")\n",
    "\n",
    "# 讀取資料表\n",
    "df = pd.read_sql(query, cnxn)"
   ]
  },
  {
   "cell_type": "code",
   "execution_count": 5,
   "metadata": {},
   "outputs": [],
   "source": [
    "with open('hownet_postive.txt', encoding='utf-8', mode='r') as f:\n",
    "        positive_words = []\n",
    "        for l in f:\n",
    "            positive_words.append(l.strip())\n",
    "\n",
    "with open('hownet_negative.txt', encoding='utf-8', mode='r') as f:\n",
    "    negative_words = []\n",
    "    for l in f:\n",
    "        negative_words.append(l.strip())"
   ]
  },
  {
   "cell_type": "code",
   "execution_count": 6,
   "metadata": {},
   "outputs": [],
   "source": [
    "# 定義處理負面字串的函式\n",
    "def process_text_negative(text):\n",
    "    # 使用 jieba 分詞\n",
    "    words = jieba.cut(text)\n",
    "    \n",
    "    words = [word for word in words if word in negative_words]   \n",
    "\n",
    "    # 回傳字詞列表\n",
    "    return words"
   ]
  },
  {
   "cell_type": "code",
   "execution_count": 7,
   "metadata": {},
   "outputs": [],
   "source": [
    "# 定義處理正面字串的函式\n",
    "def process_text_postive(text):\n",
    "    # 使用 jieba 分詞\n",
    "    words = jieba.cut(text)\n",
    "    \n",
    "    words = [word for word in words if word in positive_words]   \n",
    "\n",
    "    # 回傳字詞列表\n",
    "    return words"
   ]
  },
  {
   "cell_type": "code",
   "execution_count": 8,
   "metadata": {},
   "outputs": [
    {
     "name": "stderr",
     "output_type": "stream",
     "text": [
      "Building prefix dict from C:\\project\\python\\dict.big5.txt ...\n",
      "Loading model from cache C:\\Users\\HuanChen\\AppData\\Local\\Temp\\jieba.u7bf78fb8a3e5c528afaa2a9a1de33675.cache\n",
      "Loading model cost 1.460 seconds.\n",
      "Prefix dict has been built successfully.\n"
     ]
    }
   ],
   "source": [
    "# 載入知網詞庫\n",
    "jieba.set_dictionary('C:\\project\\python\\dict.big5.txt')\n",
    "\n",
    "# 載入自定義詞庫\n",
    "jieba.load_userdict('C:\\project\\python\\main.txt')"
   ]
  },
  {
   "cell_type": "code",
   "execution_count": 9,
   "metadata": {},
   "outputs": [
    {
     "name": "stdout",
     "output_type": "stream",
     "text": [
      "start analyze emotion word in context\n"
     ]
    }
   ],
   "source": [
    "print('start analyze emotion word in context')\n",
    "# 處理 context 欄位\n",
    "corpus_context_negative = [process_text_negative(text) for text in df['context']]\n",
    "corpus_context_postive = [process_text_postive(text) for text in df['context']]"
   ]
  },
  {
   "cell_type": "code",
   "execution_count": 10,
   "metadata": {},
   "outputs": [
    {
     "name": "stdout",
     "output_type": "stream",
     "text": [
      "start analyze emotion word in title\n"
     ]
    }
   ],
   "source": [
    "print('start analyze emotion word in title')\n",
    "# 處理 title 欄位\n",
    "corpus_title_negative = [process_text_negative(text) for text in df['title']]\n",
    "corpus_title_postive = [process_text_postive(text) for text in df['title']]"
   ]
  },
  {
   "cell_type": "code",
   "execution_count": 11,
   "metadata": {},
   "outputs": [],
   "source": [
    "# 合併兩個 corpus\n",
    "corpus_postive = corpus_context_postive + corpus_title_postive\n",
    "corpus_negative = corpus_context_negative + corpus_title_negative"
   ]
  },
  {
   "cell_type": "code",
   "execution_count": 14,
   "metadata": {},
   "outputs": [
    {
     "name": "stdout",
     "output_type": "stream",
     "text": [
      "正面詞彙\n",
      "完整: 15161\n",
      "其實: 8599\n",
      "根本: 7763\n",
      "可能: 6781\n",
      "支持: 6629\n",
      "完全: 5273\n",
      "同意: 5031\n",
      "民主: 4949\n",
      "希望: 4769\n",
      "需要: 4101\n",
      "安全: 3193\n",
      "決定: 3122\n",
      "剛剛: 3015\n",
      "一定: 2737\n",
      "接受: 2680\n",
      "經濟: 2624\n",
      "通過: 2591\n",
      "自由: 2584\n",
      "喜歡: 2308\n",
      "負責: 2241\n"
     ]
    }
   ],
   "source": [
    "# 使用 nltk.FreqDist 計算詞頻\n",
    "word_freq = nltk.FreqDist(word for words in corpus_postive for word in words if len(word)>1)\n",
    "# 取出前 10 筆\n",
    "top_words = word_freq.most_common(20)\n",
    "\n",
    "# 顯示結果\n",
    "print(\"正面詞彙\")\n",
    "for word, freq in top_words:    \n",
    "    print(f\"{word}: {freq}\")"
   ]
  },
  {
   "cell_type": "code",
   "execution_count": 15,
   "metadata": {},
   "outputs": [
    {
     "name": "stdout",
     "output_type": "stream",
     "text": [
      "負面詞彙\n",
      "不同意: 3960\n",
      "攻擊: 3174\n",
      "質疑: 2461\n",
      "活動: 2204\n",
      "嚴重: 1863\n",
      "錯誤: 1797\n",
      "隨便: 1584\n",
      "擔心: 1516\n",
      "智障: 1444\n",
      "可憐: 1360\n",
      "簡單: 1309\n",
      "抗議: 1285\n",
      "不行: 1277\n",
      "似乎: 1205\n",
      "背後: 1086\n",
      "不爽: 1051\n",
      "危險: 975\n",
      "不滿: 965\n",
      "懷疑: 934\n",
      "恐怖: 894\n"
     ]
    }
   ],
   "source": [
    "word_freq = nltk.FreqDist(word for words in corpus_negative for word in words if len(word)>1)\n",
    "# 取出前 10 筆\n",
    "top_words = word_freq.most_common(20)\n",
    "\n",
    "# 顯示結果\n",
    "print(\"負面詞彙\")\n",
    "for word, freq in top_words:    \n",
    "    print(f\"{word}: {freq}\")"
   ]
  }
 ],
 "metadata": {
  "kernelspec": {
   "display_name": "Python 3",
   "language": "python",
   "name": "python3"
  },
  "language_info": {
   "codemirror_mode": {
    "name": "ipython",
    "version": 3
   },
   "file_extension": ".py",
   "mimetype": "text/x-python",
   "name": "python",
   "nbconvert_exporter": "python",
   "pygments_lexer": "ipython3",
   "version": "3.10.4"
  },
  "orig_nbformat": 4
 },
 "nbformat": 4,
 "nbformat_minor": 2
}
